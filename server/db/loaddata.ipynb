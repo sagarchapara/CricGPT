{
 "cells": [
  {
   "cell_type": "code",
   "execution_count": 1,
   "metadata": {},
   "outputs": [
    {
     "name": "stdout",
     "output_type": "stream",
     "text": [
      "PostgreSQL version: PostgreSQL 16.4 on x86_64-pc-linux-gnu, compiled by Debian clang version 12.0.1, 64-bit\n",
      "Tables in the database: ['stadiums', 'matches', 'tournaments', 'teams', 'innings', 'balls', 'players', 'player_vs_player_innings', 'player_stats_innings', 'player_stats_over', 'partnerships', 'fielding']\n"
     ]
    }
   ],
   "source": [
    "from sqlclient import SQLClient\n",
    "from sqlalchemy import inspect\n",
    "from sqlalchemy.orm import sessionmaker\n",
    "\n",
    "sqlEngine = SQLClient()\n",
    "\n",
    "engine = sqlEngine.engine\n",
    "\n",
    "#get all tables\n",
    "# Create an inspector\n",
    "inspector = inspect(engine)\n",
    "\n",
    "# Get the list of table names\n",
    "tables = inspector.get_table_names()\n",
    "\n",
    "# Print the list of tables\n",
    "print(\"Tables in the database:\", tables)\n",
    "\n",
    "# Create a configured \"Session\" class\n",
    "Session = sessionmaker(bind=engine)\n",
    "\n",
    "# Create a Session\n",
    "session = Session()\n"
   ]
  },
  {
   "cell_type": "code",
   "execution_count": null,
   "metadata": {},
   "outputs": [],
   "source": [
    "# from data_models.schema import Base\n",
    "\n",
    "# # Drop all tables\n",
    "# Base.metadata.drop_all(engine)\n",
    "\n",
    "# # Create all tables\n",
    "# Base.metadata.create_all(engine)\n"
   ]
  },
  {
   "cell_type": "code",
   "execution_count": 3,
   "metadata": {},
   "outputs": [],
   "source": [
    "from populate import ProcessMatchData\n",
    "\n",
    "def process_match(file):\n",
    "    matchData = ProcessMatchData(file,session)\n",
    "    matchData.process()\n"
   ]
  },
  {
   "cell_type": "code",
   "execution_count": 4,
   "metadata": {},
   "outputs": [],
   "source": [
    "\n",
    "\n",
    "dir = \"/Users/sagar/repos/CricGPT/db/data/all_json (1).\"\n",
    "\n",
    "file_path = \"/Users/sagar/repos/CricGPT/db/data/all_json (1)./63963.json\"\n"
   ]
  },
  {
   "cell_type": "code",
   "execution_count": 5,
   "metadata": {},
   "outputs": [
    {
     "ename": "KeyError",
     "evalue": "'format'",
     "output_type": "error",
     "traceback": [
      "\u001b[0;31m---------------------------------------------------------------------------\u001b[0m",
      "\u001b[0;31mKeyError\u001b[0m                                  Traceback (most recent call last)",
      "Cell \u001b[0;32mIn[5], line 1\u001b[0m\n\u001b[0;32m----> 1\u001b[0m \u001b[43mprocess_match\u001b[49m\u001b[43m(\u001b[49m\u001b[43mfile_path\u001b[49m\u001b[43m)\u001b[49m\n",
      "Cell \u001b[0;32mIn[3], line 5\u001b[0m, in \u001b[0;36mprocess_match\u001b[0;34m(file)\u001b[0m\n\u001b[1;32m      3\u001b[0m \u001b[38;5;28;01mdef\u001b[39;00m \u001b[38;5;21mprocess_match\u001b[39m(file):\n\u001b[1;32m      4\u001b[0m     matchData \u001b[38;5;241m=\u001b[39m ProcessMatchData(file,session)\n\u001b[0;32m----> 5\u001b[0m     \u001b[43mmatchData\u001b[49m\u001b[38;5;241;43m.\u001b[39;49m\u001b[43mprocess\u001b[49m\u001b[43m(\u001b[49m\u001b[43m)\u001b[49m\n",
      "File \u001b[0;32m~/repos/CricGPT/server/db/populate.py:26\u001b[0m, in \u001b[0;36mProcessMatchData.process\u001b[0;34m(self)\u001b[0m\n\u001b[1;32m     23\u001b[0m tournament_name \u001b[38;5;241m=\u001b[39m data[\u001b[38;5;124m\"\u001b[39m\u001b[38;5;124minfo\u001b[39m\u001b[38;5;124m\"\u001b[39m][\u001b[38;5;124m\"\u001b[39m\u001b[38;5;124mevent\u001b[39m\u001b[38;5;124m\"\u001b[39m][\u001b[38;5;124m\"\u001b[39m\u001b[38;5;124mname\u001b[39m\u001b[38;5;124m\"\u001b[39m] \u001b[38;5;241m+\u001b[39m \u001b[38;5;124m\"\u001b[39m\u001b[38;5;124m \u001b[39m\u001b[38;5;124m\"\u001b[39m \u001b[38;5;241m+\u001b[39m data[\u001b[38;5;124m\"\u001b[39m\u001b[38;5;124minfo\u001b[39m\u001b[38;5;124m\"\u001b[39m][\u001b[38;5;124m\"\u001b[39m\u001b[38;5;124mseason\u001b[39m\u001b[38;5;124m\"\u001b[39m]\n\u001b[1;32m     25\u001b[0m \u001b[38;5;66;03m#search for the tournament with in database if not found create a new one\u001b[39;00m\n\u001b[0;32m---> 26\u001b[0m \u001b[38;5;28mself\u001b[39m\u001b[38;5;241m.\u001b[39mcurr_data\u001b[38;5;241m.\u001b[39mtourament_id \u001b[38;5;241m=\u001b[39m \u001b[38;5;28;43mself\u001b[39;49m\u001b[38;5;241;43m.\u001b[39;49m\u001b[43mtry_create_tournament\u001b[49m\u001b[43m(\u001b[49m\u001b[43mtournament_name\u001b[49m\u001b[43m,\u001b[49m\u001b[43m \u001b[49m\u001b[43mdata\u001b[49m\u001b[43m)\u001b[49m\n\u001b[1;32m     28\u001b[0m \u001b[38;5;66;03m#Stadium\u001b[39;00m\n\u001b[1;32m     29\u001b[0m \u001b[38;5;28mself\u001b[39m\u001b[38;5;241m.\u001b[39mcurr_data\u001b[38;5;241m.\u001b[39mstadium_id \u001b[38;5;241m=\u001b[39m \u001b[38;5;28mself\u001b[39m\u001b[38;5;241m.\u001b[39mtry_create_stadium(data[\u001b[38;5;124m'\u001b[39m\u001b[38;5;124minfo\u001b[39m\u001b[38;5;124m'\u001b[39m][\u001b[38;5;124m'\u001b[39m\u001b[38;5;124mvenue\u001b[39m\u001b[38;5;124m'\u001b[39m], data\u001b[38;5;241m=\u001b[39m data)\n",
      "File \u001b[0;32m~/repos/CricGPT/server/db/populate.py:555\u001b[0m, in \u001b[0;36mProcessMatchData.try_create_tournament\u001b[0;34m(self, tournament_name, data)\u001b[0m\n\u001b[1;32m    549\u001b[0m tournament \u001b[38;5;241m=\u001b[39m \u001b[38;5;28mself\u001b[39m\u001b[38;5;241m.\u001b[39msession\u001b[38;5;241m.\u001b[39mquery(Tournament)\u001b[38;5;241m.\u001b[39mfilter(Tournament\u001b[38;5;241m.\u001b[39mname \u001b[38;5;241m==\u001b[39m tournament_name)\u001b[38;5;241m.\u001b[39mfirst()\n\u001b[1;32m    551\u001b[0m \u001b[38;5;28;01mif\u001b[39;00m tournament \u001b[38;5;129;01mis\u001b[39;00m \u001b[38;5;28;01mNone\u001b[39;00m:\n\u001b[1;32m    552\u001b[0m     tournament \u001b[38;5;241m=\u001b[39m Tournament(\n\u001b[1;32m    553\u001b[0m         name\u001b[38;5;241m=\u001b[39mtournament_name,\n\u001b[1;32m    554\u001b[0m         gender \u001b[38;5;241m=\u001b[39m data[\u001b[38;5;124m\"\u001b[39m\u001b[38;5;124minfo\u001b[39m\u001b[38;5;124m\"\u001b[39m][\u001b[38;5;124m\"\u001b[39m\u001b[38;5;124mgender\u001b[39m\u001b[38;5;124m\"\u001b[39m],\n\u001b[0;32m--> 555\u001b[0m         \u001b[38;5;28mformat\u001b[39m \u001b[38;5;241m=\u001b[39m \u001b[43mdata\u001b[49m\u001b[43m[\u001b[49m\u001b[38;5;124;43m\"\u001b[39;49m\u001b[38;5;124;43minfo\u001b[39;49m\u001b[38;5;124;43m\"\u001b[39;49m\u001b[43m]\u001b[49m\u001b[43m[\u001b[49m\u001b[38;5;124;43m\"\u001b[39;49m\u001b[38;5;124;43mformat\u001b[39;49m\u001b[38;5;124;43m\"\u001b[39;49m\u001b[43m]\u001b[49m,\n\u001b[1;32m    556\u001b[0m         season \u001b[38;5;241m=\u001b[39m data[\u001b[38;5;124m\"\u001b[39m\u001b[38;5;124minfo\u001b[39m\u001b[38;5;124m\"\u001b[39m][\u001b[38;5;124m\"\u001b[39m\u001b[38;5;124mseason\u001b[39m\u001b[38;5;124m\"\u001b[39m])\n\u001b[1;32m    558\u001b[0m     \u001b[38;5;28mself\u001b[39m\u001b[38;5;241m.\u001b[39msession\u001b[38;5;241m.\u001b[39madd(tournament)\n\u001b[1;32m    559\u001b[0m     \u001b[38;5;28mself\u001b[39m\u001b[38;5;241m.\u001b[39msession\u001b[38;5;241m.\u001b[39mcommit()\n",
      "\u001b[0;31mKeyError\u001b[0m: 'format'"
     ]
    }
   ],
   "source": [
    "process_match(file_path)"
   ]
  }
 ],
 "metadata": {
  "kernelspec": {
   "display_name": ".venv",
   "language": "python",
   "name": "python3"
  },
  "language_info": {
   "codemirror_mode": {
    "name": "ipython",
    "version": 3
   },
   "file_extension": ".py",
   "mimetype": "text/x-python",
   "name": "python",
   "nbconvert_exporter": "python",
   "pygments_lexer": "ipython3",
   "version": "3.13.0"
  }
 },
 "nbformat": 4,
 "nbformat_minor": 2
}
