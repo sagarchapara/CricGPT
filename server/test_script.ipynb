{
 "cells": [
  {
   "cell_type": "code",
   "execution_count": 1,
   "metadata": {},
   "outputs": [],
   "source": [
    "from cricgpt import CricGPT\n",
    "\n",
    "from api_clients.llm import OpenAIClient\n",
    "from api_clients.cricinfo_client import CricInfoClient\n",
    "from utils.utils import load_json\n",
    "from id_mapper import IdMapper\n",
    "from dotenv import load_dotenv\n",
    "\n",
    "load_dotenv()\n",
    "\n",
    "cricinfo_client = CricInfoClient()\n",
    "llm_client = OpenAIClient(\"gpt4o\")\n",
    "id_mapper = IdMapper(cricInfoClient=cricinfo_client)\n",
    "\n",
    "gpt = CricGPT(\"gpt4o\", llm_client, cricinfo_client, id_mapper)\n",
    "\n",
    "result = await gpt.execute(\"Sachin stats against Curtly Ambrose\")\n",
    "\n",
    "print(result)"
   ]
  },
  {
   "cell_type": "code",
   "execution_count": null,
   "metadata": {},
   "outputs": [],
   "source": [
    "print(result[\"summary\"])"
   ]
  },
  {
   "cell_type": "code",
   "execution_count": null,
   "metadata": {},
   "outputs": [],
   "source": []
  },
  {
   "cell_type": "code",
   "execution_count": null,
   "metadata": {},
   "outputs": [],
   "source": [
    "from data_models.cricinfo import CricInfoBatting, get_class_description\n",
    "\n",
    "\n",
    "json_payload = {\n",
    "  \"player_involve\": [1],\n",
    "  \"host\": [1, 2, 3, 4]\n",
    "}\n",
    "\n",
    "\n",
    "val = get_class_description(CricInfoBatting)\n",
    "\n",
    "print(val)\n",
    "\n",
    "abc = CricInfoBatting.model_validate(json_payload)\n",
    "\n",
    "query = abc.get_query_url()\n",
    "\n"
   ]
  },
  {
   "cell_type": "code",
   "execution_count": null,
   "metadata": {},
   "outputs": [],
   "source": [
    "from api_clients.cricinfo_client import CricInfoClient\n",
    "\n",
    "client = CricInfoClient()\n",
    "\n",
    "# response = client.get_page()\n",
    "\n",
    "response = await client.get_statsguru_player_id(\"Dhoni\")\n",
    "\n",
    "print(response)\n",
    "\n"
   ]
  },
  {
   "cell_type": "code",
   "execution_count": null,
   "metadata": {},
   "outputs": [],
   "source": [
    "response = client.get_data()\n",
    "\n",
    "print(response)"
   ]
  },
  {
   "cell_type": "code",
   "execution_count": null,
   "metadata": {},
   "outputs": [],
   "source": [
    "import xml.etree.ElementTree as ET\n",
    "import json\n",
    "\n",
    "# XML data\n",
    "xml_data = '''\n",
    "<select>\n",
    "</select>\n",
    "'''\n",
    "\n",
    "# Parse XML data\n",
    "root = ET.fromstring(xml_data)\n",
    "\n",
    "# Initialize dictionary to store result\n",
    "result = {}\n",
    "\n",
    "# Loop through the 'option' elements in the XML\n",
    "for option in root.findall('option'):\n",
    "    value = option.get('value')\n",
    "    result[option.text] = int(value) "
   ]
  },
  {
   "cell_type": "code",
   "execution_count": null,
   "metadata": {},
   "outputs": [],
   "source": [
    "with open('C:\\\\Users\\\\chaparasagar\\\\cricketgpt\\\\static\\\\teams.json', \"w\") as f:\n",
    "    json.dump(result, f, indent=4)"
   ]
  },
  {
   "cell_type": "code",
   "execution_count": null,
   "metadata": {},
   "outputs": [],
   "source": [
    "from bs4 import BeautifulSoup\n",
    "import json\n",
    "\n",
    "\n",
    "with open('C:\\\\Users\\\\chaparasagar\\\\cricketgpt\\\\static\\\\mappings\\\\mappings.html') as f:\n",
    "    html_content = f.read()\n",
    "  \n",
    "\n",
    "soup = BeautifulSoup(html_content, 'html.parser')\n",
    "\n",
    "divs = soup.find('td').find_all('div')\n",
    "\n",
    "for div in divs:\n",
    "  select_element = div.find('select')\n",
    "  if select_element:\n",
    "      id = select_element.get('id')\n",
    "  else:\n",
    "      raise ValueError(\"No select element found\")\n",
    "\n",
    "  path = f\"C:\\\\Users\\\\chaparasagar\\\\cricketgpt\\\\static\\\\mappings\\\\{id}.json\"\n",
    "\n",
    "  select_element = soup.find('select', id=id)\n",
    "\n",
    "  json_data = {}\n",
    "  for option in select_element.find_all('option'):\n",
    "    text = option.text.strip()  # Remove leading/trailing whitespace\n",
    "    value = option['value']\n",
    "    json_data[text] = value\n",
    "\n",
    "  # print(json_data)\n",
    "\n",
    "  with open(path, \"w\") as f:\n",
    "      json.dump(json_data, f, indent=4)\n",
    "\n"
   ]
  },
  {
   "cell_type": "code",
   "execution_count": 7,
   "metadata": {},
   "outputs": [
    {
     "name": "stdout",
     "output_type": "stream",
     "text": [
      "{}\n"
     ]
    }
   ],
   "source": [
    "html = \"\"\n",
    "\n",
    "from bs4 import BeautifulSoup\n",
    "import json\n",
    "\n",
    "# Parse the HTML\n",
    "soup = BeautifulSoup(html, 'html.parser')\n",
    "\n",
    "# Find all label elements with class 'guruCheckboxLabel'\n",
    "labels = soup.find_all('label', class_='guruCheckboxLabel')\n",
    "\n",
    "# Extract data and convert to JSON\n",
    "trophies = {}\n",
    "for label in labels:\n",
    "    input_tag = label.find('input', class_='guruCheckbox')\n",
    "    trophy_value = input_tag['value']\n",
    "    trophy_name = label.get_text(strip=True)\n",
    "    trophies[trophy_name] = trophy_value\n",
    "\n",
    "# Convert to JSON\n",
    "trophies_json = json.dumps(trophies, indent=4)\n",
    "\n",
    "print(trophies_json)"
   ]
  }
 ],
 "metadata": {
  "kernelspec": {
   "display_name": ".venv",
   "language": "python",
   "name": "python3"
  },
  "language_info": {
   "codemirror_mode": {
    "name": "ipython",
    "version": 3
   },
   "file_extension": ".py",
   "mimetype": "text/x-python",
   "name": "python",
   "nbconvert_exporter": "python",
   "pygments_lexer": "ipython3",
   "version": "3.13.0"
  }
 },
 "nbformat": 4,
 "nbformat_minor": 2
}
