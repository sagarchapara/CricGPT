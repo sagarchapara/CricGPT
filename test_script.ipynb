{
 "cells": [
  {
   "cell_type": "code",
   "execution_count": 1,
   "metadata": {},
   "outputs": [
    {
     "name": "stdout",
     "output_type": "stream",
     "text": [
      "\n",
      "[\n",
      "    { \"type\": \"player\", \"player\": \"Kuldeep Yadav\", \"query\": \"Kuldeep Yadav stats under MS Dhoni captaincy in ODIs\" },\n",
      "    { \"type\": \"player\", \"player\": \"Kuldeep Yadav\", \"query\": \"Kuldeep Yadav stats under Virat Kohli captaincy in ODIs\" },\n",
      "    { \"type\": \"player\", \"player\": \"Kuldeep Yadav\", \"query\": \"Kuldeep Yadav stats under Rohit Sharma captaincy in ODIs\" }\n",
      "]\n",
      "\n",
      "[{'type': 'player', 'player': 'Kuldeep Yadav', 'query': 'Kuldeep Yadav stats under MS Dhoni captaincy in ODIs'}, {'type': 'player', 'player': 'Kuldeep Yadav', 'query': 'Kuldeep Yadav stats under Virat Kohli captaincy in ODIs'}, {'type': 'player', 'player': 'Kuldeep Yadav', 'query': 'Kuldeep Yadav stats under Rohit Sharma captaincy in ODIs'}]\n",
      "https://www.espncricinfo.com/cricketers/kuldeep-yadav-559235\n",
      "https://www.espncricinfo.com/cricketers/kuldeep-yadav-559235\n",
      "https://www.espncricinfo.com/cricketers/kuldeep-yadav-559235\n",
      "\n",
      "{\n",
      "    \"class_\": 2,\n",
      "    \"type\": \"allround\",\n",
      "    \"player\": [\"Kuldeep Yadav\"],\n",
      "    \"captain_involve\": [\"Virat Kohli\"]\n",
      "}\n",
      "\n",
      "\n",
      "{\n",
      "    \"class_\": 2,\n",
      "    \"type\": \"allround\",\n",
      "    \"player\": [\"Kuldeep Yadav\"],\n",
      "    \"captain\": 1,\n",
      "    \"captain_involve\": [\"MS Dhoni\"],\n",
      "    \"view\": \"\"\n",
      "}\n",
      "\n",
      "\n",
      "{\n",
      "    \"class_\": 2,\n",
      "    \"type\": \"allround\",\n",
      "    \"player\": [\"Kuldeep Yadav\"],\n",
      "    \"captain_involve\": [\"Rohit Sharma\"]\n",
      "}\n",
      "\n",
      "\n",
      "{\n",
      "    \"orderby\": \"wickets\"\n",
      "}\n",
      "\n"
     ]
    },
    {
     "ename": "KeyError",
     "evalue": "'view'",
     "output_type": "error",
     "traceback": [
      "\u001b[1;31m---------------------------------------------------------------------------\u001b[0m",
      "\u001b[1;31mKeyError\u001b[0m                                  Traceback (most recent call last)",
      "Cell \u001b[1;32mIn[1], line 5\u001b[0m\n\u001b[0;32m      1\u001b[0m \u001b[38;5;28;01mfrom\u001b[39;00m \u001b[38;5;21;01mcricgpt\u001b[39;00m \u001b[38;5;28;01mimport\u001b[39;00m CricGPT\n\u001b[0;32m      3\u001b[0m gpt \u001b[38;5;241m=\u001b[39m CricGPT(\u001b[38;5;124m\"\u001b[39m\u001b[38;5;124mgpt4o\u001b[39m\u001b[38;5;124m\"\u001b[39m)\n\u001b[1;32m----> 5\u001b[0m result \u001b[38;5;241m=\u001b[39m \u001b[38;5;28;01mawait\u001b[39;00m gpt\u001b[38;5;241m.\u001b[39mexecute(\u001b[38;5;124m\"\u001b[39m\u001b[38;5;124mKuldeep yadav stats under Ms Dhoni, Virat Kohli and Rohit Sharma captaincy in ODI cricket\u001b[39m\u001b[38;5;124m\"\u001b[39m)\n\u001b[0;32m      7\u001b[0m \u001b[38;5;28mprint\u001b[39m(result)\n",
      "File \u001b[1;32mc:\\Users\\chaparasagar\\cricketgpt\\cricgpt.py:35\u001b[0m, in \u001b[0;36mCricGPT.execute\u001b[1;34m(self, query)\u001b[0m\n\u001b[0;32m     32\u001b[0m \u001b[38;5;28;01mfor\u001b[39;00m breakdown_part \u001b[38;5;129;01min\u001b[39;00m breakdown_parts:\n\u001b[0;32m     33\u001b[0m     tasks\u001b[38;5;241m.\u001b[39mappend(\u001b[38;5;28mself\u001b[39m\u001b[38;5;241m.\u001b[39mprocess_breakdown_part(breakdown_part))\n\u001b[1;32m---> 35\u001b[0m results \u001b[38;5;241m=\u001b[39m \u001b[38;5;28;01mawait\u001b[39;00m asyncio\u001b[38;5;241m.\u001b[39mgather(\u001b[38;5;241m*\u001b[39mtasks)\n\u001b[0;32m     37\u001b[0m \u001b[38;5;66;03m#finally summarize the results\u001b[39;00m\n\u001b[0;32m     38\u001b[0m summary_prompt \u001b[38;5;241m=\u001b[39m get_summary_prompt()\n",
      "File \u001b[1;32mc:\\Users\\chaparasagar\\cricketgpt\\cricgpt.py:51\u001b[0m, in \u001b[0;36mCricGPT.process_breakdown_part\u001b[1;34m(self, breakdown_part)\u001b[0m\n\u001b[0;32m     49\u001b[0m \u001b[38;5;28;01mif\u001b[39;00m breakdown_part[\u001b[38;5;124m\"\u001b[39m\u001b[38;5;124mtype\u001b[39m\u001b[38;5;124m\"\u001b[39m] \u001b[38;5;241m==\u001b[39m \u001b[38;5;124m\"\u001b[39m\u001b[38;5;124mplayer\u001b[39m\u001b[38;5;124m\"\u001b[39m:\n\u001b[0;32m     50\u001b[0m     player_stats \u001b[38;5;241m=\u001b[39m Player(\u001b[38;5;28mself\u001b[39m\u001b[38;5;241m.\u001b[39mopenai_client, \u001b[38;5;28mself\u001b[39m\u001b[38;5;241m.\u001b[39mcricinfo_client, \u001b[38;5;28mself\u001b[39m\u001b[38;5;241m.\u001b[39mid_mapper)\n\u001b[1;32m---> 51\u001b[0m     result \u001b[38;5;241m=\u001b[39m \u001b[38;5;28;01mawait\u001b[39;00m player_stats\u001b[38;5;241m.\u001b[39mexecute(breakdown_part)\n\u001b[0;32m     52\u001b[0m \u001b[38;5;28;01melse\u001b[39;00m:\n\u001b[0;32m     53\u001b[0m     stats \u001b[38;5;241m=\u001b[39m AllRound(\u001b[38;5;28mself\u001b[39m\u001b[38;5;241m.\u001b[39mopenai_client, \u001b[38;5;28mself\u001b[39m\u001b[38;5;241m.\u001b[39mcricinfo_client, \u001b[38;5;28mself\u001b[39m\u001b[38;5;241m.\u001b[39mid_mapper)\n",
      "File \u001b[1;32mc:\\Users\\chaparasagar\\cricketgpt\\execution\\player.py:58\u001b[0m, in \u001b[0;36mPlayer.execute\u001b[1;34m(self, input_data)\u001b[0m\n\u001b[0;32m     54\u001b[0m view_results \u001b[38;5;241m=\u001b[39m \u001b[38;5;28;01mawait\u001b[39;00m \u001b[38;5;28mself\u001b[39m\u001b[38;5;241m.\u001b[39mopenai_client\u001b[38;5;241m.\u001b[39mget_response(system_prompt\u001b[38;5;241m=\u001b[39mview_prompt, query\u001b[38;5;241m=\u001b[39mquery)\n\u001b[0;32m     56\u001b[0m view \u001b[38;5;241m=\u001b[39m load_json(view_results)\n\u001b[1;32m---> 58\u001b[0m \u001b[38;5;28;01mif\u001b[39;00m \u001b[43mview\u001b[49m\u001b[43m[\u001b[49m\u001b[38;5;124;43m\"\u001b[39;49m\u001b[38;5;124;43mview\u001b[39;49m\u001b[38;5;124;43m\"\u001b[39;49m\u001b[43m]\u001b[49m \u001b[38;5;241m==\u001b[39m \u001b[38;5;124m\"\u001b[39m\u001b[38;5;124mdefault\u001b[39m\u001b[38;5;124m\"\u001b[39m:\n\u001b[0;32m     59\u001b[0m     view[\u001b[38;5;124m\"\u001b[39m\u001b[38;5;124mview\u001b[39m\u001b[38;5;124m\"\u001b[39m] \u001b[38;5;241m=\u001b[39m \u001b[38;5;28;01mNone\u001b[39;00m \u001b[38;5;66;03m# set it to None\u001b[39;00m\n\u001b[0;32m     61\u001b[0m \u001b[38;5;66;03m#now override the view field\u001b[39;00m\n",
      "\u001b[1;31mKeyError\u001b[0m: 'view'"
     ]
    },
    {
     "name": "stdout",
     "output_type": "stream",
     "text": [
      "\n",
      "{\n",
      "  \"orderby\": \"batting_average\"\n",
      "}\n",
      "\n",
      "\n",
      "{\n",
      "    \"orderby\": \"wickets\"\n",
      "}\n",
      "\n"
     ]
    }
   ],
   "source": [
    "from cricgpt import CricGPT\n",
    "\n",
    "gpt = CricGPT(\"gpt4o\")\n",
    "\n",
    "result = await gpt.execute(\"Kuldeep yadav bowling stats under Ms Dhoni, Virat Kohli and Rohit Sharma captaincy in ODI cricket\")\n",
    "\n",
    "print(result)"
   ]
  },
  {
   "cell_type": "code",
   "execution_count": 9,
   "metadata": {},
   "outputs": [
    {
     "name": "stdout",
     "output_type": "stream",
     "text": [
      "Below is the summary of MS Dhoni's best batting partners in ODIs, Tests, and T20s:\n",
      "\n",
      "### ODIs\n",
      "\n",
      "| Partner       | Inns | Runs | High  | Ave   | 100 | 50 |\n",
      "|---------------|------|------|-------|-------|-----|----|\n",
      "| SK Raina      | 73   | 3585 | 196*  | 56.90 | 9   | 18 |\n",
      "| Yuvraj Singh  | 67   | 3105 | 256   | 51.75 | 10  | 13 |\n",
      "| V Kohli       | 51   | 1891 | 152   | 41.10 | 2   | 14 |\n",
      "| RG Sharma     | 31   | 1482 | 167   | 54.88 | 4   | 9  |\n",
      "| RA Jadeja     | 48   | 1472 | 127*  | 34.23 | 3   | 5  |\n",
      "\n",
      "### Tests\n",
      "\n",
      "| Partner       | Inns | Runs | High  | Ave   | 100 | 50 |\n",
      "|---------------|------|------|-------|-------|-----|----|\n",
      "| VVS Laxman    | 27   | 1361 | 259*  | 56.70 | 3   | 8  |\n",
      "| SR Tendulkar  | 24   | 969  | 172   | 44.04 | 2   | 6  |\n",
      "| R Dravid      | 15   | 765  | 224   | 51.00 | 2   | 1  |\n",
      "| V Kohli       | 14   | 676  | 198   | 52.00 | 3   | 2  |\n",
      "| SC Ganguly    | 13   | 649  | 119   | 49.92 | 3   | 3  |\n",
      "\n",
      "### T20s\n",
      "\n",
      "| Partner       | Inns | Runs | High  | Ave   | 100 | 50 |\n",
      "|---------------|------|------|-------|-------|-----|----|\n",
      "| Yuvraj Singh  | 23   | 730  | 102*  | 38.42 | 1   | 5  |\n",
      "| SK Raina      | 21   | 549  | 60    | 27.45 | 0   | 2  |\n",
      "| V Kohli       | 15   | 523  | 100   | 87.16 | 1   | 3  |\n",
      "| MK Pandey     | 8    | 278  | 98*   | 55.60 | 0   | 3  |\n",
      "| RG Sharma     | 10   | 250  | 85    | 31.25 | 0   | 1  |\n",
      "\n",
      "These tables reflect the top batting partnerships in terms of MS Dhoni's runs, averages, and notable scores across different formats.\n"
     ]
    }
   ],
   "source": [
    "print(result[\"summary\"])"
   ]
  },
  {
   "cell_type": "code",
   "execution_count": null,
   "metadata": {},
   "outputs": [],
   "source": []
  },
  {
   "cell_type": "code",
   "execution_count": null,
   "metadata": {},
   "outputs": [],
   "source": [
    "from data_models.cricinfo import CricInfoBatting, get_class_description\n",
    "\n",
    "\n",
    "json_payload = {\n",
    "  \"player_involve\": [1],\n",
    "  \"host\": [1, 2, 3, 4]\n",
    "}\n",
    "\n",
    "\n",
    "val = get_class_description(CricInfoBatting)\n",
    "\n",
    "print(val)\n",
    "\n",
    "abc = CricInfoBatting.model_validate(json_payload)\n",
    "\n",
    "query = abc.get_query_url()\n",
    "\n"
   ]
  },
  {
   "cell_type": "code",
   "execution_count": null,
   "metadata": {},
   "outputs": [],
   "source": [
    "from api_clients.cricinfo_client import CricInfoClient\n",
    "\n",
    "client = CricInfoClient()\n",
    "\n",
    "# response = client.get_page()\n",
    "\n",
    "response = await client.get_statsguru_player_id(\"Dhoni\")\n",
    "\n",
    "print(response)\n",
    "\n"
   ]
  },
  {
   "cell_type": "code",
   "execution_count": null,
   "metadata": {},
   "outputs": [],
   "source": [
    "response = client.get_data()\n",
    "\n",
    "print(response)"
   ]
  },
  {
   "cell_type": "code",
   "execution_count": null,
   "metadata": {},
   "outputs": [],
   "source": [
    "import xml.etree.ElementTree as ET\n",
    "import json\n",
    "\n",
    "# XML data\n",
    "xml_data = '''\n",
    "<select>\n",
    "</select>\n",
    "'''\n",
    "\n",
    "# Parse XML data\n",
    "root = ET.fromstring(xml_data)\n",
    "\n",
    "# Initialize dictionary to store result\n",
    "result = {}\n",
    "\n",
    "# Loop through the 'option' elements in the XML\n",
    "for option in root.findall('option'):\n",
    "    value = option.get('value')\n",
    "    result[option.text] = int(value) "
   ]
  },
  {
   "cell_type": "code",
   "execution_count": null,
   "metadata": {},
   "outputs": [],
   "source": [
    "with open('C:\\\\Users\\\\chaparasagar\\\\cricketgpt\\\\static\\\\teams.json', \"w\") as f:\n",
    "    json.dump(result, f, indent=4)"
   ]
  },
  {
   "cell_type": "code",
   "execution_count": null,
   "metadata": {},
   "outputs": [],
   "source": [
    "from bs4 import BeautifulSoup\n",
    "import json\n",
    "\n",
    "\n",
    "with open('C:\\\\Users\\\\chaparasagar\\\\cricketgpt\\\\static\\\\mappings\\\\mappings.html') as f:\n",
    "    html_content = f.read()\n",
    "  \n",
    "\n",
    "soup = BeautifulSoup(html_content, 'html.parser')\n",
    "\n",
    "divs = soup.find('td').find_all('div')\n",
    "\n",
    "for div in divs:\n",
    "  select_element = div.find('select')\n",
    "  if select_element:\n",
    "      id = select_element.get('id')\n",
    "  else:\n",
    "      raise ValueError(\"No select element found\")\n",
    "\n",
    "  path = f\"C:\\\\Users\\\\chaparasagar\\\\cricketgpt\\\\static\\\\mappings\\\\{id}.json\"\n",
    "\n",
    "  select_element = soup.find('select', id=id)\n",
    "\n",
    "  json_data = {}\n",
    "  for option in select_element.find_all('option'):\n",
    "    text = option.text.strip()  # Remove leading/trailing whitespace\n",
    "    value = option['value']\n",
    "    json_data[text] = value\n",
    "\n",
    "  # print(json_data)\n",
    "\n",
    "  with open(path, \"w\") as f:\n",
    "      json.dump(json_data, f, indent=4)\n",
    "\n"
   ]
  }
 ],
 "metadata": {
  "kernelspec": {
   "display_name": "Python 3",
   "language": "python",
   "name": "python3"
  },
  "language_info": {
   "codemirror_mode": {
    "name": "ipython",
    "version": 3
   },
   "file_extension": ".py",
   "mimetype": "text/x-python",
   "name": "python",
   "nbconvert_exporter": "python",
   "pygments_lexer": "ipython3",
   "version": "3.11.9"
  }
 },
 "nbformat": 4,
 "nbformat_minor": 2
}
