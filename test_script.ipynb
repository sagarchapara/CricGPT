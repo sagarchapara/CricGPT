{
 "cells": [
  {
   "cell_type": "code",
   "execution_count": null,
   "metadata": {},
   "outputs": [],
   "source": [
    "from cricgpt import CricGPT\n",
    "\n",
    "gpt = CricGPT(\"gpt4o\")\n",
    "\n",
    "result = await gpt.get_result(\"Indian players stats in SENA countries in tests with min matches 10 ordered by highest avg\")\n",
    "\n",
    "print(result)"
   ]
  },
  {
   "cell_type": "code",
   "execution_count": null,
   "metadata": {},
   "outputs": [],
   "source": [
    "from data_models.cricinfo import CricInfoBatting, get_class_description\n",
    "\n",
    "\n",
    "json_payload = {\n",
    "  \"player_involve\": [1],\n",
    "  \"host\": [1, 2, 3, 4]\n",
    "}\n",
    "\n",
    "\n",
    "val = get_class_description(CricInfoBatting)\n",
    "\n",
    "print(val)\n",
    "\n",
    "abc = CricInfoBatting.model_validate(json_payload)\n",
    "\n",
    "query = abc.get_query_url()\n",
    "\n"
   ]
  },
  {
   "cell_type": "code",
   "execution_count": null,
   "metadata": {},
   "outputs": [],
   "source": [
    "from api_clients.cricinfo_client import CricInfoClient\n",
    "\n",
    "client = CricInfoClient(query)\n",
    "\n",
    "# response = client.get_page()\n"
   ]
  },
  {
   "cell_type": "code",
   "execution_count": null,
   "metadata": {},
   "outputs": [],
   "source": [
    "response = client.get_data()\n",
    "\n",
    "print(response)"
   ]
  },
  {
   "cell_type": "code",
   "execution_count": null,
   "metadata": {},
   "outputs": [],
   "source": [
    "import xml.etree.ElementTree as ET\n",
    "import json\n",
    "\n",
    "# XML data\n",
    "xml_data = '''\n",
    "<select>\n",
    "</select>\n",
    "'''\n",
    "\n",
    "# Parse XML data\n",
    "root = ET.fromstring(xml_data)\n",
    "\n",
    "# Initialize dictionary to store result\n",
    "result = {}\n",
    "\n",
    "# Loop through the 'option' elements in the XML\n",
    "for option in root.findall('option'):\n",
    "    value = option.get('value')\n",
    "    result[option.text] = int(value) "
   ]
  },
  {
   "cell_type": "code",
   "execution_count": null,
   "metadata": {},
   "outputs": [],
   "source": [
    "with open('C:\\\\Users\\\\chaparasagar\\\\cricketgpt\\\\static\\\\teams.json', \"w\") as f:\n",
    "    json.dump(result, f, indent=4)"
   ]
  }
 ],
 "metadata": {
  "kernelspec": {
   "display_name": "Python 3",
   "language": "python",
   "name": "python3"
  },
  "language_info": {
   "codemirror_mode": {
    "name": "ipython",
    "version": 3
   },
   "file_extension": ".py",
   "mimetype": "text/x-python",
   "name": "python",
   "nbconvert_exporter": "python",
   "pygments_lexer": "ipython3",
   "version": "3.11.9"
  }
 },
 "nbformat": 4,
 "nbformat_minor": 2
}
